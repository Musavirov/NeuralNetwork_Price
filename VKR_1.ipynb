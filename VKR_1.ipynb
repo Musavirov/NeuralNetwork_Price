{
  "nbformat": 4,
  "nbformat_minor": 0,
  "metadata": {
    "colab": {
      "name": "Untitled1.ipynb",
      "provenance": [],
      "authorship_tag": "ABX9TyNxLsGsPE/blztHnEPDW0uq",
      "include_colab_link": true
    },
    "kernelspec": {
      "name": "python3",
      "display_name": "Python 3"
    },
    "accelerator": "GPU"
  },
  "cells": [
    {
      "cell_type": "markdown",
      "metadata": {
        "id": "view-in-github",
        "colab_type": "text"
      },
      "source": [
        "<a href=\"https://colab.research.google.com/github/Musavirov/NeuralNetwork_Price/blob/master/VKR_1.ipynb\" target=\"_parent\"><img src=\"https://colab.research.google.com/assets/colab-badge.svg\" alt=\"Open In Colab\"/></a>"
      ]
    },
    {
      "cell_type": "code",
      "metadata": {
        "id": "8n5JuxVeJLxW",
        "colab_type": "code",
        "colab": {}
      },
      "source": [
        "import xgboost as xgb\n",
        "import pandas as pd\n",
        "import numpy as np\n",
        "from geopy.distance import geodesic \n",
        "import math\n",
        "from sklearn.metrics import mean_absolute_error, r2_score, median_absolute_error\n",
        "from sklearn.model_selection import train_test_split, GridSearchCV, RandomizedSearchCV\n",
        "from sklearn.ensemble import RandomForestRegressor\n",
        "from sklearn.preprocessing import LabelEncoder\n",
        "import matplotlib.pyplot as plt\n",
        "%matplotlib inline\n",
        "%config InlineBackend.figure_format = 'retina' \n",
        "import warnings\n",
        "warnings.filterwarnings('ignore')"
      ],
      "execution_count": 0,
      "outputs": []
    },
    {
      "cell_type": "code",
      "metadata": {
        "id": "XgeV-dzrKEFB",
        "colab_type": "code",
        "colab": {}
      },
      "source": [
        "def get_azimuth(latitude, longitude):\n",
        " \n",
        "    rad = 6372795\n",
        "\n",
        "    llat1 = city_center_coordinates[0]\n",
        "    llong1 = city_center_coordinates[1]\n",
        "    llat2 = latitude\n",
        "    llong2 = longitude\n",
        "\n",
        "    lat1 = llat1*math.pi/180.\n",
        "    lat2 = llat2*math.pi/180.\n",
        "    long1 = llong1*math.pi/180.\n",
        "    long2 = llong2*math.pi/180.\n",
        "\n",
        "    cl1 = math.cos(lat1)\n",
        "    cl2 = math.cos(lat2)\n",
        "    sl1 = math.sin(lat1)\n",
        "    sl2 = math.sin(lat2)\n",
        "    delta = long2 - long1\n",
        "    cdelta = math.cos(delta)\n",
        "    sdelta = math.sin(delta)\n",
        "\n",
        "    y = math.sqrt(math.pow(cl2*sdelta,2)+math.pow(cl1*sl2-sl1*cl2*cdelta,2))\n",
        "    x = sl1*sl2+cl1*cl2*cdelta\n",
        "    ad = math.atan2(y,x)\n",
        "\n",
        "    x = (cl1*sl2) - (sl1*cl2*cdelta)\n",
        "    y = sdelta*cl2\n",
        "    z = math.degrees(math.atan(-y/x))\n",
        "\n",
        "    if (x < 0):\n",
        "        z = z+180.\n",
        "\n",
        "    z2 = (z+180.) % 360. - 180.\n",
        "    z2 = - math.radians(z2)\n",
        "    anglerad2 = z2 - ((2*math.pi)*math.floor((z2/(2*math.pi))) )\n",
        "    angledeg = (anglerad2*180.)/math.pi\n",
        "    \n",
        "    return round(angledeg, 2)\n",
        "\n",
        "def mean_absolute_percentage_error(y_true, y_pred): \n",
        "    y_true, y_pred = np.array(y_true), np.array(y_pred)\n",
        "    return np.mean(np.abs((y_true - y_pred) / y_true)) * 100\n",
        "\n",
        "def median_absolute_percentage_error(y_true, y_pred): \n",
        "    y_true, y_pred = np.array(y_true), np.array(y_pred)\n",
        "    return np.median(np.abs((y_true - y_pred) / y_true)) * 100\n",
        "\n",
        "def print_metrics(prediction, val_y):\n",
        "    val_mae = mean_absolute_error(val_y, prediction)\n",
        "    median_AE = median_absolute_error(val_y, prediction)\n",
        "    r2 = r2_score(val_y, prediction)\n",
        "\n",
        "    print('')\n",
        "    print('R\\u00b2: {:.2}'.format(r2))\n",
        "    print('')\n",
        "    print('Средняя абсолютная ошибка: {:.3} %'.format(mean_absolute_percentage_error(val_y, prediction)))\n",
        "    print('Медианная абсолютная ошибка: {:.3} %'.format(median_absolute_percentage_error(val_y, prediction)))"
      ],
      "execution_count": 0,
      "outputs": []
    },
    {
      "cell_type": "code",
      "metadata": {
        "id": "-biupNQwKMMK",
        "colab_type": "code",
        "colab": {}
      },
      "source": [
        "file_path = 'https://raw.githubusercontent.com/Musavirov/NeuralNetwork_Price/master/moscow_dataset_2020.csv'\n",
        "df = pd.read_csv(file_path)\n",
        "\n",
        "df.head(5)"
      ],
      "execution_count": 0,
      "outputs": []
    },
    {
      "cell_type": "code",
      "metadata": {
        "id": "uQfJomYOKPCD",
        "colab_type": "code",
        "colab": {}
      },
      "source": [
        "df['priceMetr'] = df['price']/df['totalArea']\n",
        "\n",
        "city_center_coordinates = [55.7522, 37.6156]\n",
        "df['distance'] = list(map(lambda x, y: geodesic(city_center_coordinates, [x, y]).meters, df['latitude'], df['longitude']))\n",
        "df['azimuth'] = list(map(lambda x, y: get_azimuth(x, y), df['latitude'], df['longitude']))\n",
        "\n",
        "df = df.loc[(df['distance'] < 40000)] \n",
        "\n",
        "df['priceMetr'] = df['priceMetr'].round(0)\n",
        "df['distance'] = df['distance'].round(0)\n",
        "df['azimuth'] = df['azimuth'].round(0)\n",
        "\n",
        "df.info()"
      ],
      "execution_count": 0,
      "outputs": []
    },
    {
      "cell_type": "code",
      "metadata": {
        "id": "B2PsbaZ6KThD",
        "colab_type": "code",
        "colab": {}
      },
      "source": [
        "first_quartile = df.quantile(q=0.25)\n",
        "third_quartile = df.quantile(q=0.75)\n",
        "IQR = third_quartile - first_quartile\n",
        "outliers = df[(df > (third_quartile + 1.5 * IQR)) | (df < (first_quartile - 1.5 * IQR))].count(axis=1)\n",
        "outliers.sort_values(axis=0, ascending=False, inplace=True)\n",
        "\n",
        "outliers = outliers.head(3000)\n",
        "df.drop(outliers.index, inplace=True)"
      ],
      "execution_count": 0,
      "outputs": []
    },
    {
      "cell_type": "code",
      "metadata": {
        "id": "hqFo3pzMKWdR",
        "colab_type": "code",
        "colab": {}
      },
      "source": [
        "categorical_columns = df.columns[df.dtypes == 'object']\n",
        "labelencoder = LabelEncoder()\n",
        "for column in categorical_columns:\n",
        "    df[column] = labelencoder.fit_transform(df[column])\n",
        "    print(dict(enumerate(labelencoder.classes_)))\n",
        "\n",
        "df.info()"
      ],
      "execution_count": 0,
      "outputs": []
    },
    {
      "cell_type": "code",
      "metadata": {
        "id": "-Pv6mm-OKZPK",
        "colab_type": "code",
        "colab": {}
      },
      "source": [
        "y = df['priceMetr']\n",
        "\n",
        "features = [\n",
        "            'wallsMaterial', \n",
        "            'floorNumber', \n",
        "            'floorsTotal', \n",
        "            'totalArea', \n",
        "            'kitchenArea',\n",
        "            'distance',\n",
        "            'azimuth'\n",
        "           ]\n",
        "\n",
        "X = df[features]\n",
        "\n",
        "train_X, val_X, train_y, val_y = train_test_split(X, y, random_state=1)"
      ],
      "execution_count": 0,
      "outputs": []
    },
    {
      "cell_type": "code",
      "metadata": {
        "id": "koT69SXaKcKi",
        "colab_type": "code",
        "colab": {}
      },
      "source": [
        "rf_model = RandomForestRegressor(n_estimators=2000, \n",
        "                                 n_jobs=-1,  \n",
        "                                 bootstrap=False,\n",
        "                                 criterion='mse',\n",
        "                                 max_features=3,\n",
        "                                 random_state=1,\n",
        "                                 max_depth=55,\n",
        "                                 min_samples_split=5\n",
        "                                 )\n",
        "\n",
        "rf_model.fit(train_X, train_y)\n",
        "\n",
        "rf_prediction = rf_model.predict(val_X).round(0)\n",
        "\n",
        "print_metrics(rf_prediction, val_y)"
      ],
      "execution_count": 0,
      "outputs": []
    },
    {
      "cell_type": "code",
      "metadata": {
        "id": "AQNL4u9FKc9g",
        "colab_type": "code",
        "colab": {}
      },
      "source": [
        "xgb_model = xgb.XGBRegressor(objective ='reg:gamma', \n",
        "                             learning_rate = 0.01,\n",
        "                             max_depth = 45, \n",
        "                             n_estimators = 2000,\n",
        "                             nthread = -1,\n",
        "                             eval_metric = 'gamma-nloglik', \n",
        "                             )\n",
        "\n",
        "xgb_model.fit(train_X, train_y)\n",
        "\n",
        "xgb_prediction = xgb_model.predict(val_X).round(0)\n",
        "\n",
        "print_metrics(xgb_prediction, val_y)"
      ],
      "execution_count": 0,
      "outputs": []
    },
    {
      "cell_type": "code",
      "metadata": {
        "id": "cCh96BUtKjwS",
        "colab_type": "code",
        "colab": {}
      },
      "source": [
        "prediction = rf_prediction * 0.5 + xgb_prediction * 0.5 \n",
        "\n",
        "print_metrics(prediction, val_y)"
      ],
      "execution_count": 0,
      "outputs": []
    },
    {
      "cell_type": "code",
      "metadata": {
        "id": "rgUZ8bQMKk6s",
        "colab_type": "code",
        "colab": {}
      },
      "source": [
        "importances = rf_model.feature_importances_\n",
        "std = np.std([tree.feature_importances_ for tree in rf_model.estimators_],\n",
        "             axis=0)\n",
        "indices = np.argsort(importances)[::-1]\n",
        "\n",
        "print(\"Рейтинг важности признаков:\")\n",
        "for f in range(X.shape[1]):\n",
        "    print(\"%d. %s (%f)\" % (f + 1, features[indices[f]], importances[indices[f]]))\n",
        "\n",
        "plt.figure()\n",
        "plt.title(\"Важность признаков\")\n",
        "plt.bar(range(X.shape[1]), importances[indices], color=\"g\", yerr=std[indices], align=\"center\")\n",
        "plt.xticks(range(X.shape[1]), indices)\n",
        "plt.xlim([-1, X.shape[1]])\n",
        "plt.show()"
      ],
      "execution_count": 0,
      "outputs": []
    },
    {
      "cell_type": "code",
      "metadata": {
        "id": "gAYeAwBhKnWD",
        "colab_type": "code",
        "colab": {}
      },
      "source": [
        "flat = pd.DataFrame({\n",
        "                     'wallsMaterial':[6], \n",
        "                     'floorNumber':[4],\n",
        "                     'floorsTotal':[17],\n",
        "                     'totalArea':[51.2],\n",
        "                     'kitchenArea':[9.7],\n",
        "                     'latitude':[55.858817],\n",
        "                     'longitude':[37.638755]\n",
        "                     })\n",
        "\n",
        "flat['distance'] = list(map(lambda x, y: geodesic(city_center_coordinates, [x, y]).meters, flat['latitude'], flat['longitude']))\n",
        "flat['azimuth'] = list(map(lambda x, y: get_azimuth(x, y), flat['latitude'], flat['longitude']))\n",
        "flat['distance'] = flat['distance'].round(0)\n",
        "flat['azimuth'] = flat['azimuth'].round(0)\n",
        "\n",
        "flat = flat.drop('latitude', axis=1)\n",
        "flat = flat.drop('longitude', axis=1)\n",
        "\n",
        "rf_prediction_flat = rf_model.predict(flat).round(0)\n",
        "xgb_prediction_flat = xgb_model.predict(flat).round(0)\n",
        "\n",
        "price = (rf_prediction_flat * 0.5 + xgb_prediction_flat * 0.5)*flat['totalArea'][0]\n",
        "\n",
        "print(f'Предсказанная моделью цена предложения: {int(price[0].round(-3))} рублей')"
      ],
      "execution_count": 0,
      "outputs": []
    }
  ]
}